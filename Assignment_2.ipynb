{
 "cells": [
  {
   "cell_type": "code",
   "execution_count": 10,
   "id": "259cde87",
   "metadata": {},
   "outputs": [
    {
     "data": {
      "text/plain": [
       "False"
      ]
     },
     "execution_count": 10,
     "metadata": {},
     "output_type": "execute_result"
    }
   ],
   "source": [
    "#1. What are the two values of the Boolean data type? How do you write them?\n",
    "Ans:\n",
    "'True' and 'False' are the two Boolean data types\n",
    "a = 10\n",
    "b = 5\n",
    "c = a + b\n",
    "c < 10"
   ]
  },
  {
   "cell_type": "code",
   "execution_count": 9,
   "id": "14c8effb",
   "metadata": {},
   "outputs": [
    {
     "data": {
      "text/plain": [
       "True"
      ]
     },
     "execution_count": 9,
     "metadata": {},
     "output_type": "execute_result"
    }
   ],
   "source": [
    "c >= 15"
   ]
  },
  {
   "cell_type": "code",
   "execution_count": 14,
   "id": "ddf288b7",
   "metadata": {},
   "outputs": [
    {
     "data": {
      "text/plain": [
       "True"
      ]
     },
     "execution_count": 14,
     "metadata": {},
     "output_type": "execute_result"
    }
   ],
   "source": [
    "#2. What are the three different types of Boolean operators?\n",
    "Ans\n",
    "Boolean Operators are 'And' ,'Or' ,'Not'\n",
    "a >= 10 and b <= 5"
   ]
  },
  {
   "cell_type": "code",
   "execution_count": 15,
   "id": "e8d79d99",
   "metadata": {},
   "outputs": [
    {
     "data": {
      "text/plain": [
       "False"
      ]
     },
     "execution_count": 15,
     "metadata": {},
     "output_type": "execute_result"
    }
   ],
   "source": [
    "a < 10 or a > 10"
   ]
  },
  {
   "cell_type": "code",
   "execution_count": 18,
   "id": "d5be2e35",
   "metadata": {},
   "outputs": [
    {
     "data": {
      "text/plain": [
       "True"
      ]
     },
     "execution_count": 18,
     "metadata": {},
     "output_type": "execute_result"
    }
   ],
   "source": [
    "not(b > 5)"
   ]
  },
  {
   "cell_type": "code",
   "execution_count": null,
   "id": "9e1997aa",
   "metadata": {},
   "outputs": [],
   "source": [
    "#3. Make a list of each Boolean operator's truth tables \n",
    "#(i.e. every possible combination of Boolean values for the operator and what it evaluate ).\n",
    "Ans: \n",
    "    x      y      not(X)   x&&y   x||y\n",
    "    True   True   False    True   True\n",
    "    True   False  False    False  True\n",
    "    False  True   True     False  True\n",
    "    False  False  True     False  False"
   ]
  },
  {
   "cell_type": "code",
   "execution_count": null,
   "id": "2c302b22",
   "metadata": {},
   "outputs": [],
   "source": [
    "#4. What are the values of the following expressions?\n",
    "(5 > 4) and (3 == 5)\n",
    "Ans: False\n",
    "not (5 > 4)\n",
    "Ans: False\n",
    "(5 > 4) or (3 == 5)\n",
    "Ans: True\n",
    "not ((5 > 4) or (3 == 5))\n",
    "Ans: False\n",
    "(True and True) and (True == False)\n",
    "Ans: False\n",
    "(not False) or (not True)\n",
    "Ans: True\n"
   ]
  },
  {
   "cell_type": "code",
   "execution_count": null,
   "id": "a18e3046",
   "metadata": {},
   "outputs": [],
   "source": [
    "#5. What are the six comparison operators?\n",
    "==\n",
    ">=\n",
    "<=\n",
    ">\n",
    "<\n",
    "!="
   ]
  },
  {
   "cell_type": "code",
   "execution_count": null,
   "id": "70fc72d8",
   "metadata": {},
   "outputs": [],
   "source": [
    "#6. How do you tell the difference between the equal to and assignment operators?\n",
    "#Describe a condition and when you would use one.\n",
    "Ans:\n",
    "Equal to operator compares the both, right and left hand side values to check if both values are \n",
    "equal to or not.\n",
    "Assignment operator stores the value defined in right hand side to the left hand side variable."
   ]
  },
  {
   "cell_type": "code",
   "execution_count": 22,
   "id": "ea9b6b54",
   "metadata": {},
   "outputs": [
    {
     "data": {
      "text/plain": [
       "False"
      ]
     },
     "execution_count": 22,
     "metadata": {},
     "output_type": "execute_result"
    }
   ],
   "source": [
    "a = 5  #assignment operator\n",
    "b = 6\n",
    "a == b   #equal to operator. Here a is not equal to b so returned 'False'"
   ]
  },
  {
   "cell_type": "code",
   "execution_count": null,
   "id": "2b9068bb",
   "metadata": {},
   "outputs": [],
   "source": [
    "#7. Identify the three blocks in this code:\n",
    "spam = 0\n",
    "if spam == 10:\n",
    "print('eggs')\n",
    "if spam > 5:\n",
    "print('bacon')\n",
    "else:\n",
    "print('ham')\n",
    "print('spam')\n",
    "print('spam')\n",
    "\n",
    "Ans: First Block starts after 'if spam == 10' and ends with 'print('eggs')' statement\n",
    "    Second block starts from 'if spam > 5' and includes print statement 'print('bacon')'\n",
    "    Third block starts from else statement"
   ]
  },
  {
   "cell_type": "code",
   "execution_count": 28,
   "id": "f00418f2",
   "metadata": {},
   "outputs": [
    {
     "name": "stdout",
     "output_type": "stream",
     "text": [
      "Enter spam value: 3\n",
      "Greeting!\n"
     ]
    }
   ],
   "source": [
    "# 8. Write code that prints Hello if 1 is stored in spam, prints Howdy if 2 is stored in spam, \n",
    "#and prints Greetings! if anything else is stored in spam.\n",
    "\n",
    "spam = int(input(\"Enter spam value: \"))\n",
    "if spam == 1:\n",
    "    print('Hello')\n",
    "elif spam == 2:\n",
    "    print('Howdy')\n",
    "else:\n",
    "    print(\"Greeting!\")"
   ]
  },
  {
   "cell_type": "code",
   "execution_count": null,
   "id": "3668210d",
   "metadata": {},
   "outputs": [],
   "source": [
    "# 9.If your programme is stuck in an endless loop, what keys you’ll press?\n",
    "Ans: CTL+C"
   ]
  },
  {
   "cell_type": "code",
   "execution_count": null,
   "id": "567878da",
   "metadata": {},
   "outputs": [],
   "source": [
    "#10.How can you tell the difference between break and continue?\n",
    "Ans: \n",
    "    Break statement will completely exit the conditional loop and continue to execute from the\n",
    "    next line coded immedietly after the loop. \n",
    "    While continue statement will skip the code in the loop only for specific iteration but loop\n",
    "    will keep on executing from where it left off."
   ]
  },
  {
   "cell_type": "code",
   "execution_count": 30,
   "id": "0374324e",
   "metadata": {},
   "outputs": [
    {
     "name": "stdout",
     "output_type": "stream",
     "text": [
      "0\n",
      "1\n",
      "2\n"
     ]
    }
   ],
   "source": [
    "#Break example\n",
    "a = range(0,10)\n",
    "for i in a:\n",
    "    if i == 3:\n",
    "        break\n",
    "    print(i)\n",
    "    \n",
    "#Values from 3 got skipped"
   ]
  },
  {
   "cell_type": "code",
   "execution_count": 31,
   "id": "952ea224",
   "metadata": {},
   "outputs": [
    {
     "name": "stdout",
     "output_type": "stream",
     "text": [
      "0\n",
      "1\n",
      "2\n",
      "4\n",
      "5\n",
      "6\n",
      "7\n",
      "8\n",
      "9\n"
     ]
    }
   ],
   "source": [
    "#Continue example\n",
    "a = range(0,10)\n",
    "for i in a:\n",
    "    if i == 3:\n",
    "        continue\n",
    "    print(i)\n",
    "    \n",
    "#Only 3 got skipped"
   ]
  },
  {
   "cell_type": "code",
   "execution_count": null,
   "id": "2f01576c",
   "metadata": {},
   "outputs": [],
   "source": [
    "#11. In a for loop, what is the difference between range(10), range(0, 10), and range(0, 10, 1)?\n",
    "Ans: There is no difference between all the above range statements. The for loop will \n",
    "    consider the values from 0 to 9 (excluding 10) with increament 1. "
   ]
  },
  {
   "cell_type": "code",
   "execution_count": 35,
   "id": "7267dd62",
   "metadata": {},
   "outputs": [
    {
     "name": "stdout",
     "output_type": "stream",
     "text": [
      "0\n",
      "1\n",
      "2\n",
      "3\n",
      "4\n",
      "5\n",
      "6\n",
      "7\n",
      "8\n",
      "9\n",
      "10\n"
     ]
    }
   ],
   "source": [
    "#12. Write a short program that prints the numbers 1 to 10 using a for loop. \n",
    "#Then write an equivalent program that prints the numbers 1 to 10 using a while loop.\n",
    "\n",
    "#For Loop\n",
    "a = range(0,11)\n",
    "for i in a:\n",
    "    print(i)"
   ]
  },
  {
   "cell_type": "code",
   "execution_count": 37,
   "id": "ce4c8240",
   "metadata": {},
   "outputs": [
    {
     "name": "stdout",
     "output_type": "stream",
     "text": [
      "0\n",
      "1\n",
      "2\n",
      "3\n",
      "4\n",
      "5\n",
      "6\n",
      "7\n",
      "8\n",
      "9\n",
      "10\n"
     ]
    }
   ],
   "source": [
    "#While loop\n",
    "a = 0\n",
    "while a < 11:\n",
    "    print(a)\n",
    "    a+=1"
   ]
  },
  {
   "cell_type": "code",
   "execution_count": null,
   "id": "594b9334",
   "metadata": {},
   "outputs": [],
   "source": [
    "#13. If you had a function named bacon() inside a module named spam, \n",
    "#how would you call it after importing spam?\n",
    "Ans. \n",
    "spam.bacon()"
   ]
  }
 ],
 "metadata": {
  "kernelspec": {
   "display_name": "Python 3",
   "language": "python",
   "name": "python3"
  },
  "language_info": {
   "codemirror_mode": {
    "name": "ipython",
    "version": 3
   },
   "file_extension": ".py",
   "mimetype": "text/x-python",
   "name": "python",
   "nbconvert_exporter": "python",
   "pygments_lexer": "ipython3",
   "version": "3.8.8"
  }
 },
 "nbformat": 4,
 "nbformat_minor": 5
}
