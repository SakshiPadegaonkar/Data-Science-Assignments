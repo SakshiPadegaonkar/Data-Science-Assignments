{
 "cells": [
  {
   "cell_type": "code",
   "execution_count": null,
   "id": "c4a706ed",
   "metadata": {},
   "outputs": [],
   "source": [
    "#1. Write a Python program to convert kilometers to miles?\n",
    "\n",
    "def convkm(kval):\n",
    "    if type(kval) == int or type(kval) == float:\n",
    "        mval = kval * 0.62137\n",
    "        return float(mval)\n",
    "\n",
    "a = convkm(11)\n",
    "a"
   ]
  },
  {
   "cell_type": "code",
   "execution_count": null,
   "id": "a59e8342",
   "metadata": {},
   "outputs": [],
   "source": [
    "#2. Write a Python program to convert Celsius to Fahrenheit?\n",
    "\n",
    "def convcf(cval):\n",
    "    if type(cval) == int or type(cval) == float:\n",
    "        fval = (cval * 1.8) + 32\n",
    "        return float(fval)\n",
    "\n",
    "a = convcf(99)\n",
    "a"
   ]
  },
  {
   "cell_type": "code",
   "execution_count": null,
   "id": "fd94f4fd",
   "metadata": {},
   "outputs": [],
   "source": [
    "#3. Write a Python program to display calendar?\n",
    "\n",
    "def calendar(year):\n",
    "    import calendar\n",
    "    return (calendar.calendar(year))\n",
    "\n",
    "cal = calendar(2022)\n",
    "print(cal)"
   ]
  },
  {
   "cell_type": "code",
   "execution_count": null,
   "id": "a6a81987",
   "metadata": {},
   "outputs": [],
   "source": [
    "def calm(year,month):\n",
    "    import calendar\n",
    "    return (calendar.month(year,month))\n",
    "\n",
    "cal = calm(2022,2)\n",
    "print(cal)"
   ]
  },
  {
   "cell_type": "code",
   "execution_count": 4,
   "id": "9b7bf1fe",
   "metadata": {},
   "outputs": [
    {
     "data": {
      "text/plain": [
       "(-3.0, -2.0)"
      ]
     },
     "execution_count": 4,
     "metadata": {},
     "output_type": "execute_result"
    }
   ],
   "source": [
    "#4. Write a Python program to solve quadratic equation?\n",
    "\n",
    "import math\n",
    "\n",
    "def quad(a,b,c):\n",
    "    \n",
    "    if a != 0:\n",
    "        sq = ((b*b) - (4*a*c))\n",
    "        x = ((-b) - (math.sqrt(sq)))/(2*a)\n",
    "        y = ((-b) + (math.sqrt(sq)))/(2*a)\n",
    "        return x, y\n",
    "        \n",
    "exp = quad(1,5,6)\n",
    "exp"
   ]
  },
  {
   "cell_type": "code",
   "execution_count": 10,
   "id": "4da00bd3",
   "metadata": {},
   "outputs": [
    {
     "name": "stdout",
     "output_type": "stream",
     "text": [
      "after swaping a =  6 b =  5\n"
     ]
    }
   ],
   "source": [
    "#5. Write a Python program to swap two variables without temp variable?\n",
    "a,b = 5,6\n",
    "a = a+b\n",
    "b = a-b\n",
    "a = a-b\n",
    "\n",
    "print(\"after swaping a =\" ,a ,\"b = \" ,b)"
   ]
  },
  {
   "cell_type": "code",
   "execution_count": 9,
   "id": "8f217db1",
   "metadata": {},
   "outputs": [
    {
     "data": {
      "text/plain": [
       "5"
      ]
     },
     "execution_count": 9,
     "metadata": {},
     "output_type": "execute_result"
    }
   ],
   "source": [
    "b"
   ]
  },
  {
   "cell_type": "code",
   "execution_count": null,
   "id": "7d660c0f",
   "metadata": {},
   "outputs": [],
   "source": []
  }
 ],
 "metadata": {
  "kernelspec": {
   "display_name": "Python 3",
   "language": "python",
   "name": "python3"
  },
  "language_info": {
   "codemirror_mode": {
    "name": "ipython",
    "version": 3
   },
   "file_extension": ".py",
   "mimetype": "text/x-python",
   "name": "python",
   "nbconvert_exporter": "python",
   "pygments_lexer": "ipython3",
   "version": "3.8.8"
  }
 },
 "nbformat": 4,
 "nbformat_minor": 5
}
