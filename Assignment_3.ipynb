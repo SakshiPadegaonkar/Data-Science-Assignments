{
 "cells": [
  {
   "cell_type": "code",
   "execution_count": null,
   "id": "9d579e2c",
   "metadata": {},
   "outputs": [],
   "source": [
    "#1. Why are functions advantageous to have in your programs?\n",
    "Ans:\n",
    "Functions are used to write the piece of code which is reusable in many places.Fucntion reduces\n",
    "the efforts to write dupicate code. So that code can look shorter and eaiser to read. Just by \n",
    "calling the function wherever is required, is enough. "
   ]
  },
  {
   "cell_type": "code",
   "execution_count": null,
   "id": "743e9576",
   "metadata": {},
   "outputs": [],
   "source": [
    "#2. When does the code in a function run: when it's specified or when it's called?\n",
    "Ans:\n",
    "    Code in function runs when its called."
   ]
  },
  {
   "cell_type": "code",
   "execution_count": null,
   "id": "85682433",
   "metadata": {},
   "outputs": [],
   "source": [
    "#3. What statement creates a function?\n",
    "Ans: def statement creates a function. "
   ]
  },
  {
   "cell_type": "code",
   "execution_count": null,
   "id": "9500b3c0",
   "metadata": {},
   "outputs": [],
   "source": [
    "#4. What is the difference between a function and a function call?\n",
    "ans: function will only have the code which needs to be executed.\n",
    "     Function call will execute all the statements written under function once called."
   ]
  },
  {
   "cell_type": "code",
   "execution_count": null,
   "id": "ba7c1bf6",
   "metadata": {},
   "outputs": [],
   "source": [
    "#5. How many global scopes are there in a Python program? How many local scopes?\n",
    "Ans:\n",
    "    The Variable which can be read from anywhere in the program is known as a global scope. It \n",
    "    will remain in the program till termination. \n",
    "    The Variables which are defined in the function are a local scope of the variable. These \n",
    "    variables will not be in existance outside of function. "
   ]
  },
  {
   "cell_type": "code",
   "execution_count": null,
   "id": "0fde422d",
   "metadata": {},
   "outputs": [],
   "source": [
    "#6. What happens to variables in a local scope when the function call returns?\n",
    "Ans:\n",
    "    Local variables exists only in function. Once the function is called, local variable gets\n",
    "    evoked and after function call returns variable gets removed from the memory. "
   ]
  },
  {
   "cell_type": "code",
   "execution_count": null,
   "id": "b8a846e8",
   "metadata": {},
   "outputs": [],
   "source": [
    "#7. What is the concept of a return value? Is it possible to have a return value in an expression?\n",
    "Ans:\n",
    "    'Return statement' will write into functions and return the value back to where\n",
    "    of function. 'Return' \n",
    "    provides the Multiple values as well. \n",
    "    It can return all the data type values int, float, complex, list, dictionary, tuple, set.\n",
    "    Yes, Return value can be passed as an expression as well. This will return the result of \n",
    "    operation performed like addition, subtraction etc."
   ]
  },
  {
   "cell_type": "code",
   "execution_count": null,
   "id": "66d996f1",
   "metadata": {},
   "outputs": [],
   "source": [
    "#8. If a function does not have a return statement, \n",
    "#what is the return value of a call to that function?\n",
    "The return value will be none if 'return statement' is excluded."
   ]
  },
  {
   "cell_type": "code",
   "execution_count": null,
   "id": "73b6e9ca",
   "metadata": {},
   "outputs": [],
   "source": [
    "#9. How do you make a function variable refer to the global variable?\n",
    "Ans: Function variable can be made global variable by writing 'global' in front of the variable \n",
    "    in function defination."
   ]
  },
  {
   "cell_type": "code",
   "execution_count": null,
   "id": "0898d3a4",
   "metadata": {},
   "outputs": [],
   "source": [
    "#10. What is the data type of None?\n",
    "Ans: When function returns nothing, it returns data type none. It represents 'no value' is\n",
    "    present in the variable."
   ]
  },
  {
   "cell_type": "code",
   "execution_count": null,
   "id": "0902edb2",
   "metadata": {},
   "outputs": [],
   "source": [
    "#11. What does the sentence import areallyourpetsnamederic do?\n",
    "Ans: It will import the module 'areallyourpetsnamederic'."
   ]
  },
  {
   "cell_type": "code",
   "execution_count": null,
   "id": "9048a597",
   "metadata": {},
   "outputs": [],
   "source": [
    "#12. If you had a bacon() feature in a spam module, what would you call it after importing spam?\n",
    "Ans: spam.bacon()"
   ]
  },
  {
   "cell_type": "code",
   "execution_count": null,
   "id": "94766564",
   "metadata": {},
   "outputs": [],
   "source": [
    "#13. What can you do to save a programme from crashing if it encounters an error?\n",
    "Ans: To save the program from crashing we should use exception handling using Try and except\n",
    "    blocks. "
   ]
  },
  {
   "cell_type": "code",
   "execution_count": null,
   "id": "c4fca93a",
   "metadata": {},
   "outputs": [],
   "source": [
    "#14. What is the purpose of the try clause? What is the purpose of the except clause?\n",
    "Ans:\n",
    "    Try Block: contains a code which will be executed if there is no error.\n",
    "    Except Block: contains the different error messages exception classes which will be\n",
    "        executed when code in the try block throws an error accordingly. "
   ]
  }
 ],
 "metadata": {
  "kernelspec": {
   "display_name": "Python 3",
   "language": "python",
   "name": "python3"
  },
  "language_info": {
   "codemirror_mode": {
    "name": "ipython",
    "version": 3
   },
   "file_extension": ".py",
   "mimetype": "text/x-python",
   "name": "python",
   "nbconvert_exporter": "python",
   "pygments_lexer": "ipython3",
   "version": "3.8.8"
  }
 },
 "nbformat": 4,
 "nbformat_minor": 5
}
