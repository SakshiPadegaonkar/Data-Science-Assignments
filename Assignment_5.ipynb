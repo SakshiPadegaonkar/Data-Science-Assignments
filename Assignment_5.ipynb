{
 "cells": [
  {
   "cell_type": "raw",
   "id": "25531b16",
   "metadata": {},
   "source": [
    "#1. What does an empty dictionary's code look like?\n",
    "dict = {}"
   ]
  },
  {
   "cell_type": "raw",
   "id": "f3da6e7a",
   "metadata": {},
   "source": [
    "#2. What is the value of a dictionary value with the key 'foo' and the value 42?\n",
    "dict = {'foo': 42}"
   ]
  },
  {
   "cell_type": "raw",
   "id": "c8ec2bcd",
   "metadata": {},
   "source": [
    "#What is the most significant distinction between a dictionary and a list?\n",
    "Ans: \n",
    "1. List is written in '[]' while dictionary is written in '{}'\n",
    "2. List can be accessed via index whereas dictionary is the collection of key and value. so the dictionary \n",
    "value can be accessed through keys \n",
    "3. List are the usually placed in ordered and dictionaries are the unordered set of unique values."
   ]
  },
  {
   "cell_type": "raw",
   "id": "29ac2443",
   "metadata": {},
   "source": [
    "4. What happens if you try to access spam['foo'] if spam is {'bar': 100}?\n",
    "Ans: code will give the error as no such key exists in dictionary "
   ]
  },
  {
   "cell_type": "raw",
   "id": "e7e6e140",
   "metadata": {},
   "source": [
    "5. If a dictionary is stored in spam, what is the difference between the expressions 'cat' in spam and 'cat' in spam.keys()?\n",
    "Ans: Both the expressions will try to find the 'cat' value is present as a key in dictionary or not"
   ]
  },
  {
   "cell_type": "raw",
   "id": "ff13e938",
   "metadata": {},
   "source": [
    "6. If a dictionary is stored in spam, what is the difference between the expressions 'cat' \n",
    "in spam and 'cat' in spam.values()?\n",
    "Ans: first expression will try to find the value 'cat' as a key in the dictionary while\n",
    "    second expression will try to find the value 'cat' as a value in the dictionary"
   ]
  },
  {
   "cell_type": "raw",
   "id": "686a9eaa",
   "metadata": {},
   "source": [
    "#7. What is a shortcut for the following code?\n",
    "spam.setdefault('color', 'black')"
   ]
  },
  {
   "cell_type": "raw",
   "id": "4e16cbac",
   "metadata": {},
   "source": [
    "#8. How do you \"pretty print\" dictionary values using which module and function?\n",
    "#Ans: \n",
    "import pprint\n",
    "spam = {'car': 'SUV', 'color': 'black', 1:2}\n",
    "pprint.pprint(spam)\n",
    "print(spam)"
   ]
  },
  {
   "cell_type": "code",
   "execution_count": null,
   "id": "19db5788",
   "metadata": {},
   "outputs": [],
   "source": []
  }
 ],
 "metadata": {
  "kernelspec": {
   "display_name": "Python 3",
   "language": "python",
   "name": "python3"
  },
  "language_info": {
   "codemirror_mode": {
    "name": "ipython",
    "version": 3
   },
   "file_extension": ".py",
   "mimetype": "text/x-python",
   "name": "python",
   "nbconvert_exporter": "python",
   "pygments_lexer": "ipython3",
   "version": "3.8.8"
  }
 },
 "nbformat": 4,
 "nbformat_minor": 5
}
