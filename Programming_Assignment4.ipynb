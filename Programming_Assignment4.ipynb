{
 "cells": [
  {
   "cell_type": "code",
   "execution_count": 24,
   "id": "73988d89",
   "metadata": {},
   "outputs": [],
   "source": [
    "#1. Write a Python Program to Find the Factorial of a Number?\n",
    "def fact(num):\n",
    "    if num >= 0:\n",
    "        factorial = 1\n",
    "        for i in range(0,num):\n",
    "            factorial = factorial * (num-i)\n",
    "        return factorial\n",
    "    else:\n",
    "        print(\"Factorials cannot be calucated for negative number, \", num)"
   ]
  },
  {
   "cell_type": "code",
   "execution_count": 25,
   "id": "a49df0bc",
   "metadata": {},
   "outputs": [
    {
     "data": {
      "text/plain": [
       "479001600"
      ]
     },
     "execution_count": 25,
     "metadata": {},
     "output_type": "execute_result"
    }
   ],
   "source": [
    "fact(12)"
   ]
  },
  {
   "cell_type": "code",
   "execution_count": 29,
   "id": "53753836",
   "metadata": {},
   "outputs": [
    {
     "name": "stdout",
     "output_type": "stream",
     "text": [
      "2 * 1 = 2\n",
      "2 * 2 = 4\n",
      "2 * 3 = 6\n",
      "2 * 4 = 8\n",
      "2 * 5 = 10\n",
      "2 * 6 = 12\n",
      "2 * 7 = 14\n",
      "2 * 8 = 16\n",
      "2 * 9 = 18\n",
      "2 * 10 = 20\n"
     ]
    }
   ],
   "source": [
    "#2. Write a Python Program to Display the multiplication Table?\n",
    "def multiple(num):\n",
    "    if num!= 0:\n",
    "        for i in range(1,11):\n",
    "            multi = i * num\n",
    "            print(num, '*', i, '=', multi)\n",
    "\n",
    "multiple(2)"
   ]
  },
  {
   "cell_type": "code",
   "execution_count": 46,
   "id": "de52ad90",
   "metadata": {},
   "outputs": [],
   "source": [
    "#3. Write a Python Program to Print the Fibonacci sequence?\n",
    "def fibo(rng):\n",
    "    a,b = 1,0\n",
    "    print(\"Fibonacci Series till \", rng)\n",
    "    for i in range(0,rng):\n",
    "        c = a+b   \n",
    "        print(c)\n",
    "        a = b\n",
    "        b = c"
   ]
  },
  {
   "cell_type": "code",
   "execution_count": 47,
   "id": "a86d7f51",
   "metadata": {},
   "outputs": [
    {
     "name": "stdout",
     "output_type": "stream",
     "text": [
      "Fibonacci Series till  10\n",
      "1\n",
      "1\n",
      "2\n",
      "3\n",
      "5\n",
      "8\n",
      "13\n",
      "21\n",
      "34\n",
      "55\n"
     ]
    }
   ],
   "source": [
    "fibo(10)"
   ]
  },
  {
   "cell_type": "code",
   "execution_count": 63,
   "id": "f62bdce4",
   "metadata": {},
   "outputs": [],
   "source": [
    "#4. Write a Python Program to Check Armstrong Number?\n",
    "def arm(num):\n",
    "    length = len(str(num))\n",
    "    temp = num\n",
    "    sum = 0\n",
    "    while temp >0:\n",
    "        digit = temp%10\n",
    "        sum+= digit ** length\n",
    "        temp //=10\n",
    "    if sum == num:\n",
    "        print(num, 'is an armstrong number')\n",
    "    else:\n",
    "        print(num, 'is not an armstrong number')\n",
    "        "
   ]
  },
  {
   "cell_type": "code",
   "execution_count": 65,
   "id": "4cd68bb9",
   "metadata": {},
   "outputs": [
    {
     "name": "stdout",
     "output_type": "stream",
     "text": [
      "153 is an armstrong number\n"
     ]
    }
   ],
   "source": [
    "arm(153)"
   ]
  },
  {
   "cell_type": "code",
   "execution_count": 68,
   "id": "53d1e3d3",
   "metadata": {},
   "outputs": [],
   "source": [
    "#5. Write a Python Program to Find Armstrong Number in an Interval?\n",
    "def armint(rng):\n",
    "    print(\"list of aramstrong number in the range of 1 to\", rng)\n",
    "    arm=[]\n",
    "    for num in range(1,rng):\n",
    "        length = len(str(num))\n",
    "        temp = num\n",
    "        sum = 0\n",
    "        while temp >0:\n",
    "            digit = temp%10\n",
    "            sum+= digit ** length\n",
    "            temp //=10\n",
    "        if sum == num:\n",
    "            arm.append(num)\n",
    "    return arm\n",
    "        "
   ]
  },
  {
   "cell_type": "code",
   "execution_count": 71,
   "id": "09c6c5d4",
   "metadata": {},
   "outputs": [
    {
     "name": "stdout",
     "output_type": "stream",
     "text": [
      "list of aramstrong number in the range of 1 to 10000\n"
     ]
    },
    {
     "data": {
      "text/plain": [
       "[1, 2, 3, 4, 5, 6, 7, 8, 9, 153, 370, 371, 407, 1634, 8208, 9474]"
      ]
     },
     "execution_count": 71,
     "metadata": {},
     "output_type": "execute_result"
    }
   ],
   "source": [
    "armint(10000)"
   ]
  },
  {
   "cell_type": "code",
   "execution_count": 52,
   "id": "23171505",
   "metadata": {},
   "outputs": [],
   "source": [
    "#6. Write a Python Program to Find the Sum of Natural Numbers?\n",
    "def natsum(num):\n",
    "    add = 0\n",
    "    while num > 0:\n",
    "        add+=num\n",
    "        num-=1\n",
    "    return add"
   ]
  },
  {
   "cell_type": "code",
   "execution_count": 55,
   "id": "83bb2991",
   "metadata": {},
   "outputs": [
    {
     "data": {
      "text/plain": [
       "55"
      ]
     },
     "execution_count": 55,
     "metadata": {},
     "output_type": "execute_result"
    }
   ],
   "source": [
    "natsum(10)"
   ]
  },
  {
   "cell_type": "code",
   "execution_count": null,
   "id": "8c255917",
   "metadata": {},
   "outputs": [],
   "source": []
  }
 ],
 "metadata": {
  "kernelspec": {
   "display_name": "Python 3",
   "language": "python",
   "name": "python3"
  },
  "language_info": {
   "codemirror_mode": {
    "name": "ipython",
    "version": 3
   },
   "file_extension": ".py",
   "mimetype": "text/x-python",
   "name": "python",
   "nbconvert_exporter": "python",
   "pygments_lexer": "ipython3",
   "version": "3.8.8"
  }
 },
 "nbformat": 4,
 "nbformat_minor": 5
}
