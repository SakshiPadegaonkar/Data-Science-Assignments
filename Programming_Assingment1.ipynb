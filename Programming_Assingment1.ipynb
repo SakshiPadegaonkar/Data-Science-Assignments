{
 "cells": [
  {
   "cell_type": "code",
   "execution_count": 1,
   "id": "34f2c228",
   "metadata": {},
   "outputs": [
    {
     "name": "stdout",
     "output_type": "stream",
     "text": [
      "Hello Python\n"
     ]
    }
   ],
   "source": [
    "#Write a Python program to print \"Hello Python\"?\n",
    "print(\"Hello Python\")"
   ]
  },
  {
   "cell_type": "code",
   "execution_count": 7,
   "id": "795cf820",
   "metadata": {},
   "outputs": [
    {
     "name": "stdout",
     "output_type": "stream",
     "text": [
      "Enter first number: 5\n",
      "Enter second number: 3\n",
      "sum is  8\n",
      "Division is  1.6666666666666667\n"
     ]
    }
   ],
   "source": [
    "n1 = input(\"Enter first number: \")\n",
    "n2 = input(\"Enter second number: \")\n",
    "\n",
    "add = int(n1) + int(n2)\n",
    "div = int(n1) / int(n2)\n",
    "\n",
    "print ('sum is ', add)\n",
    "print ('Division is ', div)"
   ]
  },
  {
   "cell_type": "code",
   "execution_count": 9,
   "id": "fab10dae",
   "metadata": {},
   "outputs": [
    {
     "name": "stdout",
     "output_type": "stream",
     "text": [
      "Enter lenght of base of triangle: 5\n",
      "Enter lenght of height: 2\n",
      "area of triangle is:  5.0\n"
     ]
    }
   ],
   "source": [
    "#Write a Python program to find the area of a triangle?\n",
    "a = input(\"Enter lenght of base of triangle: \")\n",
    "b = input(\"Enter lenght of height: \")\n",
    "\n",
    "area =  (int(a)*int(b))/2\n",
    "\n",
    "print(\"area of triangle is: \", area)"
   ]
  },
  {
   "cell_type": "code",
   "execution_count": 10,
   "id": "6ab8f204",
   "metadata": {},
   "outputs": [
    {
     "name": "stdout",
     "output_type": "stream",
     "text": [
      "value of x after swapping is  3\n",
      "value of y after swapping is  2\n"
     ]
    }
   ],
   "source": [
    "#Write a Python program to swap two variables?\n",
    "x = 2\n",
    "y = 3\n",
    "temp = x\n",
    "x = y\n",
    "y = temp \n",
    "\n",
    "print(\"value of x after swapping is \" , x)\n",
    "print(\"value of y after swapping is \" , y)"
   ]
  },
  {
   "cell_type": "code",
   "execution_count": 21,
   "id": "c7541a85",
   "metadata": {},
   "outputs": [
    {
     "name": "stdout",
     "output_type": "stream",
     "text": [
      "29\n"
     ]
    }
   ],
   "source": [
    "#Write a Python program to generate a random number?\n",
    "import random  \n",
    "n = random.randint(0,50)  \n",
    "print(n)"
   ]
  }
 ],
 "metadata": {
  "kernelspec": {
   "display_name": "Python 3",
   "language": "python",
   "name": "python3"
  },
  "language_info": {
   "codemirror_mode": {
    "name": "ipython",
    "version": 3
   },
   "file_extension": ".py",
   "mimetype": "text/x-python",
   "name": "python",
   "nbconvert_exporter": "python",
   "pygments_lexer": "ipython3",
   "version": "3.8.8"
  }
 },
 "nbformat": 4,
 "nbformat_minor": 5
}
